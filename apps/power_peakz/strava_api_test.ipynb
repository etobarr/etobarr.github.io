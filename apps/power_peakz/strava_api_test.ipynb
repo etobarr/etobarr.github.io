{
 "cells": [
  {
   "cell_type": "code",
   "execution_count": 14,
   "id": "a50b2f99",
   "metadata": {},
   "outputs": [
    {
     "name": "stdout",
     "output_type": "stream",
     "text": [
      "Requesting Token...\n",
      "\n",
      "Access Token = 3611b29c2f4ede6389d3dc34c1350a13ab7243a7\n",
      "\n",
      "200\n",
      "200\n",
      "36\n",
      "0\n",
      "retrieved all activities\n"
     ]
    }
   ],
   "source": [
    "import requests\n",
    "import urllib3\n",
    "urllib3.disable_warnings(urllib3.exceptions.InsecureRequestWarning)\n",
    "\n",
    "auth_url = \"https://www.strava.com/oauth/token\"\n",
    "activites_url = \"https://www.strava.com/api/v3/athlete/activities\"\n",
    "\n",
    "payload = {\n",
    "    'client_id': \"116573\",\n",
    "    'client_secret': 'f178359239fbb2c061697c8163a874471ca263de',\n",
    "    'refresh_token': 'c00d945cd19b4238d9bdb9a5ebfcc1cff48ec05a',\n",
    "    'grant_type': \"refresh_token\",\n",
    "    'f': 'json'\n",
    "}\n",
    "\n",
    "print(\"Requesting Token...\\n\")\n",
    "res = requests.post(auth_url, data=payload, verify=False)\n",
    "access_token = res.json()['access_token']\n",
    "print(\"Access Token = {}\\n\".format(access_token))\n",
    "\n",
    "header = {'Authorization': 'Bearer ' + access_token}\n",
    "\n",
    "request_page_num = 1\n",
    "all_activities = []\n",
    "\n",
    "while True:\n",
    "    param = {'per_page': 200, 'page': request_page_num}\n",
    "    my_dataset = requests.get(activites_url, headers=header, params=param).json()\n",
    "    print(len(my_dataset))\n",
    "    \n",
    "    if len(my_dataset) == 0:\n",
    "        print(\"retrieved all activities\")\n",
    "        break\n",
    "    \n",
    "    request_page_num += 1"
   ]
  }
 ],
 "metadata": {
  "kernelspec": {
   "display_name": "Python 3 (ipykernel)",
   "language": "python",
   "name": "python3"
  },
  "language_info": {
   "codemirror_mode": {
    "name": "ipython",
    "version": 3
   },
   "file_extension": ".py",
   "mimetype": "text/x-python",
   "name": "python",
   "nbconvert_exporter": "python",
   "pygments_lexer": "ipython3",
   "version": "3.11.4"
  }
 },
 "nbformat": 4,
 "nbformat_minor": 5
}
